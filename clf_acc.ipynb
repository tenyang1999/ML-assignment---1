{
 "cells": [
  {
   "cell_type": "code",
   "execution_count": 1,
   "id": "7b496474-c9ef-4c87-8136-e6a9daed2b58",
   "metadata": {},
   "outputs": [],
   "source": [
    "import numpy as np\n",
    "import pandas as pd\n",
    "import math"
   ]
  },
  {
   "cell_type": "code",
   "execution_count": 2,
   "id": "f0719cd1-aae2-4869-9349-4ee74dbe4170",
   "metadata": {},
   "outputs": [],
   "source": [
    "from clf import linearclassifier,linearclassifier_with_bias,voted_perception,SVM,soft_margin_SVM"
   ]
  },
  {
   "cell_type": "code",
   "execution_count": 3,
   "id": "218798b2-950a-42f8-baaa-feadf125864a",
   "metadata": {},
   "outputs": [],
   "source": [
    "crx = pd.read_csv('tidy_crx.csv')\n",
    "crx_train_x = np.array( crx.loc[:500,:'att15'])\n",
    "crx_train_y = np.array( crx.loc[:500,'label'] )\n",
    "crx_test_x  = np.array( crx.loc[501:,:'att15'])\n",
    "crx_test_y  = np.array( crx.loc[501:,'label'] )"
   ]
  },
  {
   "cell_type": "code",
   "execution_count": 4,
   "id": "de222ed5-c468-46a6-93fd-da3560165b6d",
   "metadata": {},
   "outputs": [],
   "source": [
    "data = pd.read_csv('tidy_data.csv')\n",
    "data_train_x = np.array( data.loc[:500,'att1':] )\n",
    "data_train_y = np.array( data.loc[:500,'label'] )\n",
    "data_test_x = np.array( data.loc[501:,'att1':] )\n",
    "data_test_y = np.array( data.loc[501:,'label'] )"
   ]
  },
  {
   "cell_type": "markdown",
   "id": "c90928cc-b71b-4f2a-b999-6cb4a7a68f65",
   "metadata": {},
   "source": [
    "# linearclassifier"
   ]
  },
  {
   "cell_type": "code",
   "execution_count": 5,
   "id": "c078a4e0-5332-4509-99c5-610b7d6915ed",
   "metadata": {},
   "outputs": [
    {
     "name": "stdout",
     "output_type": "stream",
     "text": [
      "iteration1\n",
      "crx dataset accuracy:0.8553\n",
      "data dataset accuracy:0.9265\n",
      "\n",
      "iteration10\n",
      "crx dataset accuracy:0.6842\n",
      "data dataset accuracy:0.9706\n",
      "\n",
      "iteration100\n",
      "crx dataset accuracy:0.7039\n",
      "data dataset accuracy:0.9706\n",
      "\n",
      "iteration1000\n",
      "crx dataset accuracy:0.6711\n",
      "data dataset accuracy:0.9853\n",
      "\n"
     ]
    }
   ],
   "source": [
    "iters = [ 1, 10,100,1000]\n",
    "for i in iters :\n",
    "    \n",
    "    print(f'iteration{i}')\n",
    "    \n",
    "    clf = linearclassifier.linearclassifier(n_iters=i)\n",
    "    clf.fit(crx_train_x,crx_train_y)\n",
    "    acc = clf.predict(crx_test_x,crx_test_y)\n",
    "    print('crx dataset accuracy:{:.4f}'.format(acc))\n",
    "    \n",
    "    clf = linearclassifier.linearclassifier(n_iters=i)\n",
    "    clf.fit(data_train_x,data_train_y)\n",
    "    acc = clf.predict(data_test_x,data_test_y)\n",
    "    print('data dataset accuracy:{:.4f}'.format(acc))\n",
    "    \n",
    "    print()"
   ]
  },
  {
   "cell_type": "markdown",
   "id": "b7b13cbb-3f07-4466-999e-f955086f04c3",
   "metadata": {},
   "source": [
    "# linearclassifier_with_bias"
   ]
  },
  {
   "cell_type": "code",
   "execution_count": 6,
   "id": "38541402-1d7c-43c7-9a86-86cded007c17",
   "metadata": {},
   "outputs": [
    {
     "name": "stdout",
     "output_type": "stream",
     "text": [
      "iteration1\n",
      "crx dataset accuracy:0.6513\n",
      "data dataset accuracy:0.6324\n",
      "\n",
      "iteration10\n",
      "crx dataset accuracy:0.6579\n",
      "data dataset accuracy:0.9559\n",
      "\n",
      "iteration100\n",
      "crx dataset accuracy:0.6579\n",
      "data dataset accuracy:0.9265\n",
      "\n",
      "iteration1000\n",
      "crx dataset accuracy:0.6645\n",
      "data dataset accuracy:0.9853\n",
      "\n"
     ]
    }
   ],
   "source": [
    "iters = [ 1, 10,100,1000]\n",
    "for i in iters :\n",
    "    \n",
    "    print(f'iteration{i}')\n",
    "    \n",
    "    clf = linearclassifier_with_bias.linearclassifier_with_bias(n_iters=i)\n",
    "    clf.fit(crx_train_x,crx_train_y)\n",
    "    acc = clf.predict(crx_test_x,crx_test_y)\n",
    "    print('crx dataset accuracy:{:.4f}'.format(acc))\n",
    "\n",
    "    clf.fit(data_train_x,data_train_y)\n",
    "    acc = clf.predict(data_test_x,data_test_y)\n",
    "    print('data dataset accuracy:{:.4f}'.format(acc))\n",
    "    \n",
    "    print()"
   ]
  },
  {
   "cell_type": "markdown",
   "id": "f459101b-7754-486a-add6-e4e3ecf3e889",
   "metadata": {},
   "source": [
    "# voted_perception"
   ]
  },
  {
   "cell_type": "code",
   "execution_count": null,
   "id": "d9466b8e-c80a-41d3-b15a-27496d800792",
   "metadata": {},
   "outputs": [
    {
     "name": "stdout",
     "output_type": "stream",
     "text": [
      "iteration1\n",
      "crx dataset accuracy:0.7237\n",
      "data dataset accuracy:0.6324\n",
      "\n",
      "iteration10\n",
      "crx dataset accuracy:0.8487\n",
      "data dataset accuracy:0.9559\n",
      "\n",
      "iteration100\n",
      "crx dataset accuracy:0.8289\n",
      "data dataset accuracy:0.9265\n",
      "\n",
      "iteration1000\n"
     ]
    }
   ],
   "source": [
    "iters = [ 1, 10,100,1000]\n",
    "for i in iters :\n",
    "    \n",
    "    print(f'iteration{i}')\n",
    "    \n",
    "    clf = voted_perception.voted_perception(n_iters=i)\n",
    "    clf.fit(crx_train_x,crx_train_y)\n",
    "    acc = clf.predict(crx_test_x,crx_test_y)\n",
    "    print('crx dataset accuracy:{:.4f}'.format(acc))\n",
    "    \n",
    "    clf = linearclassifier_with_bias.linearclassifier_with_bias(n_iters=i)\n",
    "    clf.fit(data_train_x,data_train_y)\n",
    "    acc = clf.predict(data_test_x,data_test_y)\n",
    "    print('data dataset accuracy:{:.4f}'.format(acc))\n",
    "    \n",
    "    print()"
   ]
  },
  {
   "cell_type": "markdown",
   "id": "0655c495-feba-4414-85ea-08869f73c44e",
   "metadata": {},
   "source": [
    "# SVM"
   ]
  },
  {
   "cell_type": "code",
   "execution_count": null,
   "id": "317cafe8-2618-43b4-9667-e117681823d0",
   "metadata": {},
   "outputs": [],
   "source": [
    "iters = [ 1, 10,100,1000]\n",
    "for i in iters :\n",
    "    \n",
    "    print(f'iteration{i}')\n",
    "    \n",
    "    clf = SVM.SVM(n_iters=i)\n",
    "    clf.fit(crx_train_x,crx_train_y)\n",
    "    acc = clf.predict(crx_test_x,crx_test_y)\n",
    "    print('crx dataset accuracy:{:.4f}'.format(acc))\n",
    "    \n",
    "    clf = SVM.SVM(n_iters=i)\n",
    "    clf.fit(data_train_x,data_train_y)\n",
    "    acc = clf.predict(data_test_x,data_test_y)\n",
    "    print('data dataset accuracy:{:.4f}'.format(acc))\n",
    "    \n",
    "    print()"
   ]
  },
  {
   "cell_type": "markdown",
   "id": "473c67fe-563e-4e31-ba78-1dbc9946b764",
   "metadata": {},
   "source": [
    "# soft_margin_SVM"
   ]
  },
  {
   "cell_type": "code",
   "execution_count": null,
   "id": "5592bc90-91e7-4cd2-9b4f-ecde83a1c726",
   "metadata": {},
   "outputs": [],
   "source": [
    "iters = [ 1, 10,100,1000]\n",
    "for i in iters :\n",
    "    \n",
    "    print(f'iteration{i}')\n",
    "    \n",
    "    clf = soft_margin_SVM.soft_margin_SVM(n_iters=i,slack=0.01,C=1)\n",
    "    clf.fit(crx_train_x,crx_train_y)\n",
    "    acc = clf.predict(crx_test_x,crx_test_y)\n",
    "    print('crx dataset accuracy:{:.4f}'.format(acc))\n",
    "    \n",
    "    clf = soft_margin_SVM.soft_margin_SVM(n_iters=i,slack=0.01,C=1)\n",
    "    clf.fit(data_train_x,data_train_y)\n",
    "    acc = clf.predict(data_test_x,data_test_y)\n",
    "    print('data dataset accuracy:{:.4f}'.format(acc))\n",
    "    \n",
    "    print()"
   ]
  },
  {
   "cell_type": "markdown",
   "id": "6baa548e-79d4-4ae1-8d96-69d389a5b0b2",
   "metadata": {},
   "source": [
    "# sklearn  svm"
   ]
  },
  {
   "cell_type": "code",
   "execution_count": null,
   "id": "6f622b22-ddf0-4022-babb-27a571417a8f",
   "metadata": {},
   "outputs": [],
   "source": [
    "from sklearn import svm\n",
    "from sklearn.metrics import accuracy_score"
   ]
  },
  {
   "cell_type": "code",
   "execution_count": null,
   "id": "0ff08f2d-ad30-4514-a7a2-629b6639c52e",
   "metadata": {},
   "outputs": [],
   "source": [
    "clf = svm.SVC()\n",
    "clf.fit(crx_train_x,crx_train_y)\n",
    "y_pred = clf.predict(crx_test_x)\n",
    "acc = accuracy_score(crx_test_y, y_pred)\n",
    "print('crx dataset accuracy:{:.4f}'.format(acc))\n",
    "\n",
    "clf.fit(data_train_x,data_train_y)\n",
    "y_pred = clf.predict(data_test_x)\n",
    "acc = accuracy_score(data_test_y, y_pred)\n",
    "print('data dataset accuracy:{:.4f}'.format(acc))"
   ]
  },
  {
   "cell_type": "code",
   "execution_count": null,
   "id": "d8471c9c-d7b8-488d-ad1f-1fd0f3d54a51",
   "metadata": {},
   "outputs": [],
   "source": []
  }
 ],
 "metadata": {
  "kernelspec": {
   "display_name": "Python 3 (ipykernel)",
   "language": "python",
   "name": "python3"
  },
  "language_info": {
   "codemirror_mode": {
    "name": "ipython",
    "version": 3
   },
   "file_extension": ".py",
   "mimetype": "text/x-python",
   "name": "python",
   "nbconvert_exporter": "python",
   "pygments_lexer": "ipython3",
   "version": "3.9.7"
  }
 },
 "nbformat": 4,
 "nbformat_minor": 5
}
